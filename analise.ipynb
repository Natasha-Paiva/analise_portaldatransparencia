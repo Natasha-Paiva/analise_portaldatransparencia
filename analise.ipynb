{
  "nbformat": 4,
  "nbformat_minor": 0,
  "metadata": {
    "colab": {
      "provenance": []
    },
    "kernelspec": {
      "name": "python3",
      "display_name": "Python 3"
    },
    "language_info": {
      "name": "python"
    }
  },
  "cells": [
    {
      "cell_type": "code",
      "execution_count": 3,
      "metadata": {
        "id": "1v3S3GDNTNyV"
      },
      "outputs": [],
      "source": [
        "import pandas as pd\n",
        "caminho_dados = '/content/drive/MyDrive/Analise_Asimov/2024_Viagem.csv'"
      ]
    },
    {
      "cell_type": "code",
      "source": [
        "pd.set_option('display.max_columns', None)\n",
        "df_viagens = pd.read_csv(caminho_dados, encoding='Windows=1252', sep=';', decimal=\",\")\n",
        "# avisar ao código que os valores com , são do tipo float\n",
        "# sem a necessidade da linha de código do 'analise_portal'"
      ],
      "metadata": {
        "id": "XXeR6YzgTd4E"
      },
      "execution_count": 10,
      "outputs": []
    },
    {
      "cell_type": "code",
      "source": [],
      "metadata": {
        "id": "aCbSWGgdUmRi"
      },
      "execution_count": null,
      "outputs": []
    }
  ]
}